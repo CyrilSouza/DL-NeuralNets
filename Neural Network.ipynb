{
 "cells": [
  {
   "cell_type": "markdown",
   "metadata": {},
   "source": [
    ">>>>><h1><font color=\"teal\">Neural network</font></h1>"
   ]
  },
  {
   "cell_type": "code",
   "execution_count": 2,
   "metadata": {
    "id": "BlE4wG6NW0Or"
   },
   "outputs": [],
   "source": [
    "import numpy as np\n",
    "\n",
    "X =np.array([[0.04416006, 0.95665297],\n",
    "       [0.43614665, 0.94897731],\n",
    "       [0.78630599, 0.866289378],\n",
    "       [0.17316542, 0.07494859],\n",
    "       [0.60074272, 0.16797218],\n",
    "       [0.73338017, 0.40844386],\n",
    "       [0.52790882, 0.93757158],\n",
    "       [0.52169612, 0.10819338],\n",
    "       [0.15822341, 0.54520265],\n",
    "       [0.52440408, 0.63761024],\n",
    "       [0.40149544, 0.64980511]])\n",
    "y = np.array([[0],[0],[1],[1],[1],[0],[1],[0],[0],[1],[0]])\n"
   ]
  },
  {
   "cell_type": "code",
   "execution_count": 3,
   "metadata": {},
   "outputs": [
    {
     "name": "stdout",
     "output_type": "stream",
     "text": [
      "<class 'numpy.ndarray'> <class 'numpy.ndarray'>\n"
     ]
    }
   ],
   "source": [
    "print(type(X),type(y))"
   ]
  },
  {
   "cell_type": "code",
   "execution_count": 4,
   "metadata": {},
   "outputs": [
    {
     "data": {
      "text/plain": [
       "array([[0.04416006, 0.95665297],\n",
       "       [0.43614665, 0.94897731],\n",
       "       [0.78630599, 0.86628938],\n",
       "       [0.17316542, 0.07494859],\n",
       "       [0.60074272, 0.16797218],\n",
       "       [0.73338017, 0.40844386],\n",
       "       [0.52790882, 0.93757158],\n",
       "       [0.52169612, 0.10819338],\n",
       "       [0.15822341, 0.54520265],\n",
       "       [0.52440408, 0.63761024],\n",
       "       [0.40149544, 0.64980511]])"
      ]
     },
     "execution_count": 4,
     "metadata": {},
     "output_type": "execute_result"
    }
   ],
   "source": [
    "X"
   ]
  },
  {
   "cell_type": "code",
   "execution_count": 5,
   "metadata": {},
   "outputs": [
    {
     "data": {
      "text/plain": [
       "array([[0],\n",
       "       [0],\n",
       "       [1],\n",
       "       [1],\n",
       "       [1],\n",
       "       [0],\n",
       "       [1],\n",
       "       [0],\n",
       "       [0],\n",
       "       [1],\n",
       "       [0]])"
      ]
     },
     "execution_count": 5,
     "metadata": {},
     "output_type": "execute_result"
    }
   ],
   "source": [
    "y"
   ]
  },
  {
   "cell_type": "code",
   "execution_count": 6,
   "metadata": {
    "id": "iqVwW0bhXfsi"
   },
   "outputs": [],
   "source": [
    "class NN:\n",
    "    def __init__(self, input_dim, hidden_dim, output_dim):\n",
    "        self.input_dim = input_dim\n",
    "        self.hidden_dim = hidden_dim\n",
    "        self.output_dim = output_dim\n",
    "        self.W1 = np.random.randn(self.input_dim, self.hidden_dim)\n",
    "        self.b1 = np.zeros((1, self.hidden_dim))\n",
    "        self.W2 = np.random.randn(self.hidden_dim, self.output_dim)\n",
    "        self.b2 = np.zeros((1, self.output_dim))\n",
    "        \n",
    "    def sigmoid(self, x):\n",
    "        return 1 / (1 + np.exp(-x))\n",
    "    \n",
    "    def sigmoid_derivative(self, x):\n",
    "        return x * (1 - x)\n",
    "    \n",
    "    def softmax(self, x):\n",
    "        exp_x = np.exp(x)\n",
    "        return exp_x / np.sum(exp_x, axis=1, keepdims=True)\n",
    " \n",
    "        \n",
    "    def forward(self, X):\n",
    "        # Forward propagation\n",
    "        self.z1 = np.dot(X, self.W1) + self.b1\n",
    "        self.a1 = self.sigmoid(self.z1)\n",
    "        self.z2 = np.dot(self.a1, self.W2) + self.b2\n",
    "        \n",
    "        if self.output_dim == 1:\n",
    "            self.output = self.sigmoid(self.z2)\n",
    "        else:\n",
    "            self.output = self.softmax(self.z2)\n",
    "            \n",
    "        return self.output\n",
    "    \n",
    "    \n",
    "    \n",
    "    def backward(self, X, y, output, learning_rate):\n",
    "        # Backward propagation\n",
    "        if self.output_dim == 1:\n",
    "            error = y - output\n",
    "            delta_output = error * self.sigmoid_derivative(output)\n",
    "        else:\n",
    "            error = y - output\n",
    "            delta_output = error\n",
    "            \n",
    "        delta_hidden = np.dot(delta_output, self.W2.T) * self.sigmoid_derivative(self.a1)\n",
    "        \n",
    "        # Update weights and biases\n",
    "        self.W2 += learning_rate * np.dot(self.a1.T, delta_output)\n",
    "        self.b2 += learning_rate * np.sum(delta_output, axis=0, keepdims=True)\n",
    "        self.W1 += learning_rate * np.dot(X.T, delta_hidden)\n",
    "        self.b1 += learning_rate * np.sum(delta_hidden, axis=0)\n",
    "        \n",
    "    def train(self, X, y, epochs, learning_rate):\n",
    "        for i in range(epochs):\n",
    "            output = self.forward(X)\n",
    "            self.backward(X, y, output, learning_rate)\n",
    "            \n",
    "    def predict(self, X):\n",
    "        output = self.forward(X)\n",
    "        if self.output_dim == 1:\n",
    "            predictions = (output > 0.5).astype(int)\n",
    "        else:\n",
    "            predictions = np.argmax(output, axis=1)\n",
    "        return predictions\n"
   ]
  },
  {
   "cell_type": "markdown",
   "metadata": {},
   "source": [
    "### Initialize neural network model"
   ]
  },
  {
   "cell_type": "code",
   "execution_count": 7,
   "metadata": {
    "id": "kvGh0HSrconY"
   },
   "outputs": [],
   "source": [
    "input_dim = 2\n",
    "hidden_dim = 4\n",
    "output_dim = 1\n",
    "nn =NN(input_dim, hidden_dim, output_dim)"
   ]
  },
  {
   "cell_type": "markdown",
   "metadata": {},
   "source": [
    "### Train the model"
   ]
  },
  {
   "cell_type": "code",
   "execution_count": 8,
   "metadata": {},
   "outputs": [],
   "source": [
    "epochs = 1000\n",
    "learning_rate = 0.1\n",
    "nn.train(X, y, epochs, learning_rate)"
   ]
  },
  {
   "cell_type": "markdown",
   "metadata": {},
   "source": [
    "## Compute the loss"
   ]
  },
  {
   "cell_type": "code",
   "execution_count": 19,
   "metadata": {
    "colab": {
     "base_uri": "https://localhost:8080/"
    },
    "id": "9yitMbUmcsm2",
    "outputId": "62ee1196-a40d-4466-d3be-334832a7ad33"
   },
   "outputs": [
    {
     "name": "stdout",
     "output_type": "stream",
     "text": [
      "Loss: 0.24342893721251938\n"
     ]
    }
   ],
   "source": [
    "output = nn.forward(X)\n",
    "loss = np.mean((y - output) ** 2)\n",
    "print(\"Loss:\", loss)\n"
   ]
  },
  {
   "cell_type": "markdown",
   "metadata": {},
   "source": [
    "## Generate new data for prediction"
   ]
  },
  {
   "cell_type": "code",
   "execution_count": 20,
   "metadata": {
    "colab": {
     "base_uri": "https://localhost:8080/"
    },
    "id": "Wh3StEHJXg3f",
    "outputId": "54c0c201-1cbd-46c7-bf7b-80f67c28307f",
    "scrolled": true
   },
   "outputs": [
    {
     "name": "stdout",
     "output_type": "stream",
     "text": [
      "New data:\n",
      " [[0.22971061 0.93143391]\n",
      " [0.28744801 0.9746435 ]\n",
      " [0.42676941 0.6460856 ]\n",
      " [0.87957589 0.52152525]\n",
      " [0.18480616 0.25844951]]\n",
      "Predictions:\n",
      " [[0]\n",
      " [0]\n",
      " [0]\n",
      " [0]\n",
      " [0]]\n"
     ]
    }
   ],
   "source": [
    "\n",
    "X_new = np.random.rand(5, 2)\n",
    "\n",
    "# Make predictions on new data\n",
    "y_new = nn.predict(X_new)\n",
    "\n",
    "print(\"New data:\\n\", X_new)\n",
    "print(\"Predictions:\\n\", y_new)\n"
   ]
  },
  {
   "cell_type": "markdown",
   "metadata": {
    "id": "OWijnucjYVpX"
   },
   "source": [
    "### Calculate accuracy "
   ]
  },
  {
   "cell_type": "code",
   "execution_count": null,
   "metadata": {},
   "outputs": [],
   "source": [
    "X_test = np.random.rand(100, 2)\n",
    "y_test = np.random.randint(0, 2, size=(100, 1))"
   ]
  },
  {
   "cell_type": "code",
   "execution_count": 21,
   "metadata": {
    "colab": {
     "base_uri": "https://localhost:8080/"
    },
    "id": "RZCUmll0Xvlq",
    "outputId": "4bcf8b0d-3e37-4566-a54b-41d4e3d49c5b"
   },
   "outputs": [
    {
     "name": "stdout",
     "output_type": "stream",
     "text": [
      "Accuracy: 0.61\n"
     ]
    }
   ],
   "source": [
    "# Make predictions on test dataset\n",
    "predictions = nn.predict(X_test)\n",
    "\n",
    "# Calculate accuracy\n",
    "accuracy = np.mean(predictions == y_test)\n",
    "print(\"Accuracy:\", accuracy)\n"
   ]
  },
  {
   "cell_type": "code",
   "execution_count": 22,
   "metadata": {},
   "outputs": [
    {
     "data": {
      "text/plain": [
       "200"
      ]
     },
     "execution_count": 22,
     "metadata": {},
     "output_type": "execute_result"
    }
   ],
   "source": [
    "X_test.size"
   ]
  },
  {
   "cell_type": "code",
   "execution_count": null,
   "metadata": {},
   "outputs": [],
   "source": []
  },
  {
   "cell_type": "code",
   "execution_count": null,
   "metadata": {},
   "outputs": [],
   "source": []
  },
  {
   "cell_type": "code",
   "execution_count": null,
   "metadata": {},
   "outputs": [],
   "source": []
  },
  {
   "cell_type": "code",
   "execution_count": null,
   "metadata": {},
   "outputs": [],
   "source": []
  },
  {
   "cell_type": "code",
   "execution_count": null,
   "metadata": {},
   "outputs": [],
   "source": []
  },
  {
   "cell_type": "code",
   "execution_count": null,
   "metadata": {},
   "outputs": [],
   "source": []
  },
  {
   "cell_type": "code",
   "execution_count": null,
   "metadata": {},
   "outputs": [],
   "source": []
  },
  {
   "cell_type": "code",
   "execution_count": null,
   "metadata": {},
   "outputs": [],
   "source": [
    "import numpy as np"
   ]
  },
  {
   "cell_type": "code",
   "execution_count": 9,
   "metadata": {
    "id": "vUnLoEK0YXqN"
   },
   "outputs": [],
   "source": [
    "\n",
    "class InputLayer:\n",
    "    def __init__(self, input_dim, hidden_layer):\n",
    "        self.input_dim = input_dim\n",
    "        self.hidden_layer = hidden_layer\n",
    "        \n",
    "    def forward(self, X):\n",
    "        self.output = X\n",
    "        return self.hidden_layer.forward(X)\n",
    "\n",
    "class HiddenLayer:\n",
    "    def __init__(self, input_dim, hidden_dim, output_layer, activation_function):\n",
    "        self.input_dim = input_dim\n",
    "        self.hidden_dim = hidden_dim\n",
    "        self.output_layer = output_layer\n",
    "        self.activation_function = activation_function\n",
    "        \n",
    "        self.W = np.random.randn(self.input_dim, self.hidden_dim)\n",
    "        self.b = np.zeros((1, self.hidden_dim))\n",
    "        \n",
    "    def forward(self, X):\n",
    "        self.z = np.dot(X, self.W) + self.b\n",
    "        self.output = self.activation_function(self.z)\n",
    "        return self.output_layer.forward(self.output)\n",
    "    \n",
    "    def backward(self, delta_output, learning_rate):\n",
    "        delta_hidden = np.dot(delta_output, self.output_layer.W.T) * self.activation_function_derivative(self.output)\n",
    "        self.W += learning_rate * np.dot(self.input_layer.output.T, delta_hidden)\n",
    "        self.b += learning_rate * np.sum(delta_hidden, axis=0)\n",
    " \n",
    "    def activation_function_derivative(self, x):\n",
    "        if self.activation_function == 'sigmoid':\n",
    "            return x * (1 - x)\n",
    "        elif self.activation_function == 'relu':\n",
    "            return np.where(x > 0, 1, 0)\n",
    "        elif self.activation_function == 'tanh':\n",
    "            return 1 - x ** 2\n",
    "        \n",
    "class OutputLayer:\n",
    "    def __init__(self, input_layer, hidden_layer, output_dim, activation_function):\n",
    "        self.input_layer = input_layer\n",
    "        self.hidden_layer = hidden_layer\n",
    "        self.output_dim = output_dim\n",
    "        self.activation_function = activation_function\n",
    "        \n",
    "        self.W = np.random.randn(self.hidden_layer.hidden_dim, self.output_dim)\n",
    "        self.b = np.zeros((1, self.output_dim))\n",
    "        \n",
    "    def forward(self, X):\n",
    "        self.z = np.dot(X, self.W) + self.b\n",
    "        if self.activation_function == 'sigmoid':\n",
    "            self.output = self.sigmoid(self.z)\n",
    "        elif self.activation_function == 'softmax':\n",
    "            self.output = self.softmax(self.z)\n",
    "        return self.output\n",
    "    \n",
    "    def backward(self, y, learning_rate):\n",
    "        self.hidden_layer.backward(delta_output, learning_rate)\n",
    "        self.W += learning_rate * np.dot(self.hidden_layer.output.T, delta_output)\n",
    "        self.b += learning_rate * np.sum(delta_output, axis=0, keepdims=True)\n",
    "        \n",
    "    def sigmoid(self, x):\n",
    "        return 1 / (1 + np.exp(-x))\n",
    "    \n",
    "    def softmax(self, x):\n",
    "        exp_x = np.exp(x)\n",
    "        return exp_x / np.sum(exp_x, axis=1, keepdims=True)\n",
    "    \n",
    "\n",
    "class NN:\n",
    "    def __init__(input_layer,hidden_layer,output_dim,learning_rate,activation_function):\n",
    "        self.input=input_layer\n",
    "        self.hidden=hidden_layer\n",
    "        self.output=output_dim\n",
    "        self.activation=activattion_function\n",
    "        \n",
    "        self.W = np.random.randn(self.hidden_layer.hidden_dim, self.output_dim)\n",
    "        self.b = np.zeros((1, self.output_dim))\n",
    "        \n",
    "    def forward (self,X):\n",
    "        self.z=np.dot(X,self.W)+self.b\n",
    "        if self.activation_function =='sigmoid':\n",
    "            self.output=self.\n",
    "        \n"
   ]
  },
  {
   "cell_type": "code",
   "execution_count": null,
   "metadata": {},
   "outputs": [],
   "source": []
  }
 ],
 "metadata": {
  "colab": {
   "provenance": []
  },
  "kernelspec": {
   "display_name": "Python 3 (ipykernel)",
   "language": "python",
   "name": "python3"
  },
  "language_info": {
   "codemirror_mode": {
    "name": "ipython",
    "version": 3
   },
   "file_extension": ".py",
   "mimetype": "text/x-python",
   "name": "python",
   "nbconvert_exporter": "python",
   "pygments_lexer": "ipython3",
   "version": "3.9.13"
  }
 },
 "nbformat": 4,
 "nbformat_minor": 1
}
